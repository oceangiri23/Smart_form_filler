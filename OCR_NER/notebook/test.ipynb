{
 "cells": [
  {
   "cell_type": "code",
   "execution_count": 1,
   "metadata": {},
   "outputs": [],
   "source": [
    "tags = [\"O\", \"CIT-NUM\", \"SEX\", \"B-NAME\", \"I-NAME\", \"YEAR\", \"MONTH\", \"DAY\", \"B-DISTRICT\", \"B-WARD\", \"B-NO\", \"I-DISTRICT\", \"I-WARD\", \"I-NO\"]\n",
    "id2label = {i: label for i, label in enumerate(tags)}\n",
    "label2id = {v: k for k, v in id2label.items()}"
   ]
  },
  {
   "cell_type": "code",
   "execution_count": 2,
   "metadata": {},
   "outputs": [
    {
     "name": "stderr",
     "output_type": "stream",
     "text": [
      "c:\\Users\\Dell\\miniconda3\\envs\\minor\\Lib\\site-packages\\tqdm\\auto.py:21: TqdmWarning: IProgress not found. Please update jupyter and ipywidgets. See https://ipywidgets.readthedocs.io/en/stable/user_install.html\n",
      "  from .autonotebook import tqdm as notebook_tqdm\n"
     ]
    }
   ],
   "source": [
    "import torch\n",
    "from collections import Counter\n",
    "from transformers import AutoModelForTokenClassification, AutoTokenizer\n",
    "\n",
    "\n",
    "model = AutoModelForTokenClassification.from_pretrained(\"../model/V3/saved_model\")\n",
    "tokenizer = AutoTokenizer.from_pretrained(\"../model/V3/tokenizer_saved_model\")\n",
    "\n"
   ]
  },
  {
   "cell_type": "code",
   "execution_count": 14,
   "metadata": {},
   "outputs": [
    {
     "name": "stdout",
     "output_type": "stream",
     "text": [
      "[('details', 'O'), ('citicensaip', 'O'), ('certificate', 'O'), ('no', 'O'), ('43017700315', 'CIT-NUM'), ('sex', 'O'), ('male', 'SEX'), ('full', 'O'), ('name', 'O'), ('nabin', 'B-NAME'), ('ranabhat', 'I-NAME'), ('date', 'O'), ('of', 'O'), ('birth', 'O'), ('ad', 'O'), ('ye', 'O'), ('ar2002', 'YEAR'), ('monthjul', 'O'), ('day24', 'DAY'), ('©', 'O'), ('oirth', 'O'), ('place', 'O'), ('district', 'O'), ('tanahun', 'B-DISTRICT'), ('r', 'O'), ('m', 'O'), ('rishing', 'B-WARD'), ('ward', 'O'), ('no6', 'B-NO'), ('©', 'O'), ('ermanent', 'O'), ('address', 'O'), ('district', 'O'), ('tanahun', 'B-DISTRICT'), ('”', 'O'), ('r', 'O'), ('m', 'O'), ('rishing', 'B-WARD'), ('ward', 'O'), ('no6', 'B-NO'), ('taawiea', 'B-WARD'), ('>', 'O'), ('awa', 'O'), ('dane', 'O'), ('wake', 'O'), ('!', 'O'), ('!', 'O'), ('!', 'O'), ('!', 'O'), ('”', 'O'), ('s', 'O'), ('witha', 'O'), ('aaa', 'O'), ('fest', 'O'), ('.', 'O')]\n"
     ]
    }
   ],
   "source": [
    "\n",
    "\n",
    "text = \"details citicensaip Certificate No 43017700315 Sex Male full Name NABIN RANABHAT Date of Birth AD Ye ar2002 MonthJUL Day24 © oirth Place District Tanahun R M Rishing Ward No6 © ermanent Address District Tanahun” R M Rishing Ward No6 Taawiea> awa dane wake! !!!”S witha aaa Fest.\"\n",
    "\n",
    "\n",
    "inputs = tokenizer(text, return_tensors=\"pt\")\n",
    "with torch.no_grad():\n",
    "    outputs = model(**inputs)\n",
    "\n",
    "predicted_label_ids = outputs.logits.argmax(-1).squeeze()\n",
    "predicted_labels = [id2label[id.item()] for id in predicted_label_ids]\n",
    "\n",
    "tokens = tokenizer.convert_ids_to_tokens(inputs.input_ids.squeeze())\n",
    "word_ids = inputs.word_ids()\n",
    "\n",
    "\n",
    "words = []\n",
    "word_labels = []\n",
    "current_word = \"\"\n",
    "current_labels = []\n",
    "\n",
    "for token, word_id, label in zip(tokens, word_ids, predicted_labels):\n",
    "    if word_id is None:\n",
    "        continue\n",
    "\n",
    "    if word_id != len(words):\n",
    "\n",
    "        if current_word:\n",
    "            label_counts = Counter(current_labels)\n",
    "            most_common_label = max(label_counts, key=label_counts.get)\n",
    "\n",
    "            if \"O\" in label_counts and len(label_counts) > 1:\n",
    "                del label_counts[\"O\"]\n",
    "                most_common_label = max(label_counts, key=label_counts.get)\n",
    "\n",
    "            words.append((current_word, most_common_label))\n",
    "\n",
    "        current_word = token.replace(\"##\", \"\")\n",
    "        current_labels = [label]\n",
    "    else:\n",
    "\n",
    "        current_word += token.replace(\"##\", \"\")\n",
    "        current_labels.append(label)\n",
    "\n",
    "\n",
    "if current_word:\n",
    "    label_counts = Counter(current_labels)\n",
    "    most_common_label = max(label_counts, key=label_counts.get)\n",
    "\n",
    "    if \"O\" in label_counts and len(label_counts) > 1:\n",
    "        del label_counts[\"O\"]\n",
    "        most_common_label = max(label_counts, key=label_counts.get)\n",
    "\n",
    "    words.append((current_word, most_common_label))\n",
    "\n",
    "print(words)\n"
   ]
  },
  {
   "cell_type": "markdown",
   "metadata": {},
   "source": []
  },
  {
   "cell_type": "code",
   "execution_count": 15,
   "metadata": {},
   "outputs": [
    {
     "name": "stdout",
     "output_type": "stream",
     "text": [
      "[('details', 'O'), ('citicensaip', 'O'), ('certificate', 'O'), ('no', 'O'), ('43017700315', 'CIT-NUM'), ('sex', 'O'), ('male', 'SEX'), ('full', 'O'), ('name', 'O'), ('nabin', 'B-NAME'), ('ranabhat', 'I-NAME'), ('date', 'O'), ('of', 'O'), ('birth', 'O'), ('ad', 'O'), ('ye', 'O'), ('ar2002', 'YEAR'), ('monthjul', 'O'), ('day24', 'DAY'), ('©', 'O'), ('oirth', 'O'), ('place', 'O'), ('district', 'O'), ('tanahun', 'B-DISTRICT'), ('r', 'O'), ('m', 'O'), ('rishing', 'B-WARD'), ('ward', 'O'), ('no6', 'B-NO'), ('©', 'O'), ('ermanent', 'O'), ('address', 'O'), ('district', 'O'), ('tanahun', 'B-DISTRICT'), ('”', 'O'), ('r', 'O'), ('m', 'O'), ('rishing', 'B-WARD'), ('ward', 'O'), ('no6', 'B-NO'), ('taawiea', 'B-WARD'), ('>', 'O'), ('awa', 'O'), ('dane', 'O'), ('wake', 'O'), ('!', 'O'), ('!', 'O'), ('!', 'O'), ('!', 'O'), ('”', 'O'), ('s', 'O'), ('witha', 'O'), ('aaa', 'O'), ('fest', 'O'), ('.', 'O')]\n"
     ]
    }
   ],
   "source": [
    "#this correxts the error if th I-district is before B-district then change it. so for ward\n",
    "# Define our target labels for processing.\n",
    "target_labels = {\n",
    "    \"DISTRICT\": {\"B-DISTRICT\", \"I-DISTRICT\"},\n",
    "    \"WARD\": {\"B-WARD\", \"I-WARD\"},\n",
    "    \"NO\": {\"B-NO\", \"I-NO\"}\n",
    "    \n",
    "}\n",
    "\n",
    "# Helper: Return the group if the label exactly matches one of our target labels.\n",
    "def get_group(label):\n",
    "    for group, labels in target_labels.items():\n",
    "        if label in labels:\n",
    "            return group\n",
    "    return None\n",
    "\n",
    "# Flag to indicate if we've reached the permanent section.\n",
    "in_permanent = False\n",
    "modified_words = []\n",
    "\n",
    "for word, label in words:\n",
    "    # Check if this token marks the start of permanent address.\n",
    "    if word.lower() == \"permanent\":\n",
    "        in_permanent = True\n",
    "        modified_words.append((word, label))\n",
    "        continue\n",
    "\n",
    "    group = get_group(label)\n",
    "    if group is not None:\n",
    "        # If we're in the permanent section, force I-; otherwise, force B-\n",
    "        if in_permanent:\n",
    "            new_label = \"I-\" + group\n",
    "        else:\n",
    "            new_label = \"B-\" + group\n",
    "        modified_words.append((word, new_label))\n",
    "    else:\n",
    "        modified_words.append((word, label))\n",
    "\n",
    "# Replace your original words list with the modified one.\n",
    "words = modified_words\n",
    "\n",
    "print(words)\n"
   ]
  },
  {
   "cell_type": "code",
   "execution_count": 16,
   "metadata": {},
   "outputs": [
    {
     "name": "stdout",
     "output_type": "stream",
     "text": [
      "[('details', 'O'), ('citicensaip', 'O'), ('certificate', 'O'), ('no', 'O'), ('43017700315', 'CIT-NUM'), ('sex', 'O'), ('male', 'SEX'), ('full', 'O'), ('name', 'O'), ('nabin', 'B-NAME'), ('ranabhat', 'I-NAME'), ('date', 'O'), ('of', 'O'), ('birth', 'O'), ('ad', 'O'), ('ye', 'O'), ('ar2002', 'YEAR'), ('monthjul', 'O'), ('day24', 'DAY'), ('©', 'O'), ('oirth', 'O'), ('place', 'O'), ('district', 'O'), ('tanahun', 'B-DISTRICT'), ('r', 'O'), ('m', 'O'), ('rishing', 'B-WARD'), ('ward', 'O'), ('no6', 'B-NO'), ('©', 'O'), ('ermanent', 'O'), ('address', 'O'), ('district', 'O'), ('”', 'O'), ('r', 'O'), ('m', 'O'), ('ward', 'O'), ('no6', 'B-NO'), ('>', 'O'), ('awa', 'O'), ('dane', 'O'), ('wake', 'O'), ('!', 'O'), ('!', 'O'), ('!', 'O'), ('!', 'O'), ('”', 'O'), ('s', 'O'), ('witha', 'O'), ('aaa', 'O'), ('fest', 'O'), ('.', 'O')]\n"
     ]
    }
   ],
   "source": [
    "new_words = []\n",
    "tagss=[]\n",
    "for idx , (word, label) in enumerate(words):\n",
    "    tagss.append(label)\n",
    "    if label not in ['B-NO', 'I-NO','O']:\n",
    "        if tagss.count(label) > 1:\n",
    "            continue\n",
    "    new_words.append((word, label))\n",
    "\n",
    "print(new_words)\n",
    "\n",
    "    "
   ]
  },
  {
   "cell_type": "code",
   "execution_count": null,
   "metadata": {},
   "outputs": [
    {
     "name": "stdout",
     "output_type": "stream",
     "text": [
      "[('details', 'O'), ('citizenship', 'O'), ('certificate', 'O'), ('no', 'O'), ('43017700315', 'CIT-NUM'), ('sex', 'O'), ('male', 'SEX'), ('full', 'O'), ('name', 'O'), ('nabin', 'B-NAME'), ('ranabhat', 'I-NAME'), ('date', 'O'), ('of', 'O'), ('birth', 'O'), ('ad', 'O'), ('year', 'O'), ('2002', 'YEAR'), ('month', 'O'), ('jul', 'MONTH'), ('day', 'O'), ('24', 'DAY'), ('birth', 'O'), ('place', 'O'), ('district', 'O'), ('tanahun', 'B-DISTRICT'), ('municipality', 'O'), ('r', 'O'), ('m', 'O'), ('rishing', 'B-WARD'), ('ward', 'O'), ('no', 'B-NO'), ('6', 'O'), ('permanent', 'O'), ('address', 'O'), ('district', 'O'), ('tanahun', 'O'), ('r', 'O'), ('m', 'O'), ('rishing', 'O'), ('ward', 'O'), ('no', 'O'), ('6', 'O'), ('taawiea', 'O'), ('away', 'O'), ('dane', 'O'), ('wake', 'O'), ('s', 'O'), ('with', 'O'), ('aka', 'O'), ('fest', 'O'), ('.', 'O')]\n"
     ]
    }
   ],
   "source": [
    "#remove if the second tag is same tag is repeating two or more times.. but this is  also removing no:B-NO , 6:B-NO\n",
    "# First, record the first index where each target group appears.\n",
    "# first_occurrence = {}\n",
    "# for idx, (word, label) in enumerate(words):\n",
    "#     group = get_group(label)  # get_group returns \"DISTRICT\", \"WARD\", or \"NO\" if label is in target_labels.\n",
    "#     if group is not None and group not in first_occurrence:\n",
    "#         first_occurrence[group] = idx\n",
    "\n",
    "# # Now, build a new list that only keeps the original label for the first occurrence of each group.\n",
    "# final_words = []\n",
    "# for idx, (word, label) in enumerate(words):\n",
    "#     group = get_group(label)\n",
    "#     if group is not None:\n",
    "#         # Only the very first token with that target group keeps its label.\n",
    "#         if first_occurrence[group] == idx:\n",
    "#             final_words.append((word, label))\n",
    "#         else:\n",
    "#             final_words.append((word, \"O\"))\n",
    "#     else:\n",
    "#         final_words.append((word, label))\n",
    "\n",
    "# print(final_words)\n",
    "\n"
   ]
  },
  {
   "cell_type": "code",
   "execution_count": null,
   "metadata": {},
   "outputs": [],
   "source": []
  },
  {
   "cell_type": "code",
   "execution_count": 17,
   "metadata": {},
   "outputs": [
    {
     "name": "stdout",
     "output_type": "stream",
     "text": [
      "{'citizenship_num': '43-01-77-00315', 'first_name': 'nabin', 'last_name': 'ranabhat', 'gender': 'male', 'Birth_year': '2002', 'Birth_month': None, 'Birth_day': 'day24', 'Birth_district': 'tanahun', 'Birth_ward': 'rishing', 'Birth_wardno': '6', 'Permanent_dist': None, 'Permanent_ward': None, 'Permanent_wardno': None}\n"
     ]
    }
   ],
   "source": [
    "import re\n",
    "\n",
    "result = {}\n",
    "full_name = []\n",
    "citizenship_no = \"\"\n",
    "gender = \"\"\n",
    "year = \"\"\n",
    "month = \"\"\n",
    "day = \"\"\n",
    "B_dist = \"\"\n",
    "B_ward = \"\"\n",
    "B_no = \"\"\n",
    "P_dist = \"\"\n",
    "P_ward = \"\"\n",
    "P_no = \"\"\n",
    "\n",
    "def extract_num(text):\n",
    "    match = re.search(r'\\d+', text)\n",
    "    return match.group() if match else None\n",
    "for word, label in new_words:\n",
    "    if label == \"CIT-NUM\":\n",
    "        citizenship_no += word\n",
    "    elif label == \"B-NAME\":\n",
    "        full_name.append(word)\n",
    "    elif label == \"I-NAME\":\n",
    "        full_name.append(word)\n",
    "    elif label == \"SEX\":\n",
    "      gender +=word\n",
    "    elif label == \"YEAR\":\n",
    "      year += word\n",
    "    elif label == \"MONTH\":\n",
    "      month += word\n",
    "    elif label == \"DAY\":\n",
    "      day += word\n",
    "    elif label == \"B-DISTRICT\":\n",
    "      B_dist += word\n",
    "    elif label == \"B-WARD\":\n",
    "      B_ward += word\n",
    "    elif label == \"B-NO\":\n",
    "      B_no += word\n",
    "    elif label == \"I-DISTRICT\":\n",
    "      P_dist += word\n",
    "    elif label == \"I-WARD\":\n",
    "      P_ward += word\n",
    "    elif label == \"I-NO\":\n",
    "      P_no += word\n",
    "\n",
    "if citizenship_no:\n",
    "    citizenship_number = citizenship_no[:2] + \"-\" + citizenship_no[2:4] + \"-\" + citizenship_no[4:6] + \"-\" + citizenship_no[6:]\n",
    "    result[\"citizenship_num\"] = citizenship_number\n",
    "else :\n",
    "  result[\"citizenship_num\"] = None\n",
    "\n",
    "if len(full_name) > 0:\n",
    "    result[\"first_name\"] = full_name[0]\n",
    "else:\n",
    "   result[\"first_name\"] = None\n",
    "\n",
    "if len(full_name) > 1:\n",
    "    result[\"last_name\"] = full_name[-1]\n",
    "else:\n",
    "  result[\"last_name\"] = None\n",
    "if len(gender)>1:\n",
    "    result[\"gender\"] = gender\n",
    "else:\n",
    "  result[\"gender\"] = None\n",
    "if year:\n",
    "    result[\"Birth_year\"] = year\n",
    "    result[\"Birth_year\"] = extract_num(result[\"Birth_year\"])\n",
    "else:\n",
    "  result[\"Birth_year\"] = None\n",
    "\n",
    "if len(month) >1:\n",
    "    result[\"Birth_month\"] = month\n",
    "else:\n",
    "  result[\"Birth_month\"] = None\n",
    "if day:\n",
    "    result[\"Birth_day\"] = day\n",
    "else:\n",
    "  result[\"Birth_day\"] = None\n",
    "if B_dist:\n",
    "    result[\"Birth_district\"] = B_dist\n",
    "else:\n",
    "  result[\"Birth_district\"] = None\n",
    "if B_ward:\n",
    "    result[\"Birth_ward\"] = B_ward\n",
    "else:\n",
    "  result[\"Birth_ward\"] = None\n",
    "if B_no:\n",
    "    result[\"Birth_wardno\"] = B_no\n",
    "    result[\"Birth_wardno\"] = extract_num(result[\"Birth_wardno\"])\n",
    "else:\n",
    "  result[\"Birth_wardno\"] = None\n",
    "if P_dist:\n",
    "    result[\"Permanent_dist\"] = P_dist\n",
    "else:\n",
    "  result[\"Permanent_dist\"] = None\n",
    "if P_ward:\n",
    "    result[\"Permanent_ward\"] = P_ward\n",
    "else:\n",
    "  result[\"Permanent_ward\"] = None\n",
    "if P_no:\n",
    "    result[\"Permanent_wardno\"] = P_no\n",
    "    result[\"Permanent_wardno\"] = extract_num(result[\"Permanent_wardno\"])\n",
    "else:\n",
    "  result[\"Permanent_wardno\"] = None\n",
    "\n",
    "\n",
    "print(result)"
   ]
  },
  {
   "cell_type": "code",
   "execution_count": null,
   "metadata": {},
   "outputs": [],
   "source": []
  }
 ],
 "metadata": {
  "kernelspec": {
   "display_name": "minor",
   "language": "python",
   "name": "minor"
  },
  "language_info": {
   "codemirror_mode": {
    "name": "ipython",
    "version": 3
   },
   "file_extension": ".py",
   "mimetype": "text/x-python",
   "name": "python",
   "nbconvert_exporter": "python",
   "pygments_lexer": "ipython3",
   "version": "3.11.11"
  }
 },
 "nbformat": 4,
 "nbformat_minor": 2
}
