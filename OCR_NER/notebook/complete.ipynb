{
  "cells": [
    {
      "cell_type": "code",
      "execution_count": 1,
      "metadata": {
        "colab": {
          "base_uri": "https://localhost:8080/"
        },
        "id": "PIrpUb2BwO9A",
        "outputId": "2afc9e27-4848-4d44-9bb4-0bc1f8c97f66"
      },
      "outputs": [
        {
          "name": "stdout",
          "output_type": "stream",
          "text": [
            "Collecting pyspellchecker\n",
            "  Downloading pyspellchecker-0.8.2-py3-none-any.whl.metadata (9.4 kB)\n",
            "Downloading pyspellchecker-0.8.2-py3-none-any.whl (7.1 MB)\n",
            "   ---------------------------------------- 0.0/7.1 MB ? eta -:--:--\n",
            "   ---------------------------------------- 0.0/7.1 MB ? eta -:--:--\n",
            "   - -------------------------------------- 0.3/7.1 MB ? eta -:--:--\n",
            "   -- ------------------------------------- 0.5/7.1 MB 1.2 MB/s eta 0:00:06\n",
            "   ---- ----------------------------------- 0.8/7.1 MB 1.2 MB/s eta 0:00:06\n",
            "   ----- ---------------------------------- 1.0/7.1 MB 1.2 MB/s eta 0:00:06\n",
            "   ------- -------------------------------- 1.3/7.1 MB 1.2 MB/s eta 0:00:06\n",
            "   -------- ------------------------------- 1.6/7.1 MB 1.1 MB/s eta 0:00:05\n",
            "   ---------- ----------------------------- 1.8/7.1 MB 1.2 MB/s eta 0:00:05\n",
            "   ----------- ---------------------------- 2.1/7.1 MB 1.2 MB/s eta 0:00:05\n",
            "   ------------- -------------------------- 2.4/7.1 MB 1.2 MB/s eta 0:00:05\n",
            "   -------------- ------------------------- 2.6/7.1 MB 1.2 MB/s eta 0:00:04\n",
            "   ---------------- ----------------------- 2.9/7.1 MB 1.2 MB/s eta 0:00:04\n",
            "   ----------------- ---------------------- 3.1/7.1 MB 1.2 MB/s eta 0:00:04\n",
            "   ------------------- -------------------- 3.4/7.1 MB 1.2 MB/s eta 0:00:04\n",
            "   -------------------- ------------------- 3.7/7.1 MB 1.2 MB/s eta 0:00:03\n",
            "   ---------------------- ----------------- 3.9/7.1 MB 1.2 MB/s eta 0:00:03\n",
            "   ----------------------- ---------------- 4.2/7.1 MB 1.2 MB/s eta 0:00:03\n",
            "   ----------------------- ---------------- 4.2/7.1 MB 1.2 MB/s eta 0:00:03\n",
            "   ------------------------ --------------- 4.5/7.1 MB 1.2 MB/s eta 0:00:03\n",
            "   -------------------------- ------------- 4.7/7.1 MB 1.2 MB/s eta 0:00:03\n",
            "   --------------------------- ------------ 5.0/7.1 MB 1.2 MB/s eta 0:00:02\n",
            "   ----------------------------- ---------- 5.2/7.1 MB 1.2 MB/s eta 0:00:02\n",
            "   ------------------------------ --------- 5.5/7.1 MB 1.2 MB/s eta 0:00:02\n",
            "   -------------------------------- ------- 5.8/7.1 MB 1.2 MB/s eta 0:00:02\n",
            "   --------------------------------- ------ 6.0/7.1 MB 1.2 MB/s eta 0:00:01\n",
            "   ----------------------------------- ---- 6.3/7.1 MB 1.2 MB/s eta 0:00:01\n",
            "   ------------------------------------ --- 6.6/7.1 MB 1.2 MB/s eta 0:00:01\n",
            "   -------------------------------------- - 6.8/7.1 MB 1.2 MB/s eta 0:00:01\n",
            "   ---------------------------------------- 7.1/7.1 MB 1.2 MB/s eta 0:00:00\n",
            "Installing collected packages: pyspellchecker\n",
            "Successfully installed pyspellchecker-0.8.2\n"
          ]
        }
      ],
      "source": [
        "!pip install pyspellchecker\n"
      ]
    },
    {
      "cell_type": "code",
      "execution_count": 9,
      "metadata": {
        "colab": {
          "base_uri": "https://localhost:8080/"
        },
        "id": "BDAUaXe1SKUZ",
        "outputId": "8c0ae8bf-fbfe-41ab-e96e-7512e4db5aa3"
      },
      "outputs": [
        {
          "name": "stdout",
          "output_type": "stream",
          "text": [
            "Collecting pytesseract\n",
            "  Downloading pytesseract-0.3.13-py3-none-any.whl.metadata (11 kB)\n",
            "Requirement already satisfied: packaging>=21.3 in /usr/local/lib/python3.11/dist-packages (from pytesseract) (24.2)\n",
            "Requirement already satisfied: Pillow>=8.0.0 in /usr/local/lib/python3.11/dist-packages (from pytesseract) (11.1.0)\n",
            "Downloading pytesseract-0.3.13-py3-none-any.whl (14 kB)\n",
            "Installing collected packages: pytesseract\n",
            "Successfully installed pytesseract-0.3.13\n",
            "Reading package lists... Done\n",
            "Building dependency tree... Done\n",
            "Reading state information... Done\n",
            "The following additional packages will be installed:\n",
            "  tesseract-ocr-eng tesseract-ocr-osd\n",
            "The following NEW packages will be installed:\n",
            "  tesseract-ocr tesseract-ocr-eng tesseract-ocr-osd\n",
            "0 upgraded, 3 newly installed, 0 to remove and 20 not upgraded.\n",
            "Need to get 4,816 kB of archives.\n",
            "After this operation, 15.6 MB of additional disk space will be used.\n",
            "Get:1 http://archive.ubuntu.com/ubuntu jammy/universe amd64 tesseract-ocr-eng all 1:4.00~git30-7274cfa-1.1 [1,591 kB]\n",
            "Get:2 http://archive.ubuntu.com/ubuntu jammy/universe amd64 tesseract-ocr-osd all 1:4.00~git30-7274cfa-1.1 [2,990 kB]\n",
            "Get:3 http://archive.ubuntu.com/ubuntu jammy/universe amd64 tesseract-ocr amd64 4.1.1-2.1build1 [236 kB]\n",
            "Fetched 4,816 kB in 3s (1,660 kB/s)\n",
            "Selecting previously unselected package tesseract-ocr-eng.\n",
            "(Reading database ... 124926 files and directories currently installed.)\n",
            "Preparing to unpack .../tesseract-ocr-eng_1%3a4.00~git30-7274cfa-1.1_all.deb ...\n",
            "Unpacking tesseract-ocr-eng (1:4.00~git30-7274cfa-1.1) ...\n",
            "Selecting previously unselected package tesseract-ocr-osd.\n",
            "Preparing to unpack .../tesseract-ocr-osd_1%3a4.00~git30-7274cfa-1.1_all.deb ...\n",
            "Unpacking tesseract-ocr-osd (1:4.00~git30-7274cfa-1.1) ...\n",
            "Selecting previously unselected package tesseract-ocr.\n",
            "Preparing to unpack .../tesseract-ocr_4.1.1-2.1build1_amd64.deb ...\n",
            "Unpacking tesseract-ocr (4.1.1-2.1build1) ...\n",
            "Setting up tesseract-ocr-eng (1:4.00~git30-7274cfa-1.1) ...\n",
            "Setting up tesseract-ocr-osd (1:4.00~git30-7274cfa-1.1) ...\n",
            "Setting up tesseract-ocr (4.1.1-2.1build1) ...\n",
            "Processing triggers for man-db (2.10.2-1) ...\n",
            "Reading package lists... Done\n",
            "Building dependency tree... Done\n",
            "Reading state information... Done\n",
            "The following NEW packages will be installed:\n",
            "  tesseract-ocr-nep\n",
            "0 upgraded, 1 newly installed, 0 to remove and 20 not upgraded.\n",
            "Need to get 478 kB of archives.\n",
            "After this operation, 1,018 kB of additional disk space will be used.\n",
            "Get:1 http://archive.ubuntu.com/ubuntu jammy/universe amd64 tesseract-ocr-nep all 1:4.00~git30-7274cfa-1.1 [478 kB]\n",
            "Fetched 478 kB in 2s (286 kB/s)\n",
            "debconf: unable to initialize frontend: Dialog\n",
            "debconf: (No usable dialog-like program is installed, so the dialog based frontend cannot be used. at /usr/share/perl5/Debconf/FrontEnd/Dialog.pm line 78, <> line 1.)\n",
            "debconf: falling back to frontend: Readline\n",
            "debconf: unable to initialize frontend: Readline\n",
            "debconf: (This frontend requires a controlling tty.)\n",
            "debconf: falling back to frontend: Teletype\n",
            "dpkg-preconfigure: unable to re-open stdin: \n",
            "Selecting previously unselected package tesseract-ocr-nep.\n",
            "(Reading database ... 124973 files and directories currently installed.)\n",
            "Preparing to unpack .../tesseract-ocr-nep_1%3a4.00~git30-7274cfa-1.1_all.deb ...\n",
            "Unpacking tesseract-ocr-nep (1:4.00~git30-7274cfa-1.1) ...\n",
            "Setting up tesseract-ocr-nep (1:4.00~git30-7274cfa-1.1) ...\n"
          ]
        }
      ],
      "source": [
        "!pip install pytesseract\n",
        "!apt-get install -y tesseract-ocr\n",
        "!sudo apt-get install tesseract-ocr-nep"
      ]
    },
    {
      "cell_type": "code",
      "execution_count": 1,
      "metadata": {},
      "outputs": [
        {
          "name": "stderr",
          "output_type": "stream",
          "text": [
            "c:\\Users\\Dell\\miniconda3\\envs\\minor\\Lib\\site-packages\\tqdm\\auto.py:21: TqdmWarning: IProgress not found. Please update jupyter and ipywidgets. See https://ipywidgets.readthedocs.io/en/stable/user_install.html\n",
            "  from .autonotebook import tqdm as notebook_tqdm\n"
          ]
        }
      ],
      "source": [
        "import torch\n",
        "from collections import Counter\n",
        "from transformers import AutoModelForTokenClassification, AutoTokenizer\n",
        "\n",
        "\n",
        "model = AutoModelForTokenClassification.from_pretrained(\"../model/V1/saved_model\")\n",
        "tokenizer = AutoTokenizer.from_pretrained(\"../model/V1/tokenizer_saved_model\")\n",
        "\n"
      ]
    },
    {
      "cell_type": "code",
      "execution_count": 2,
      "metadata": {
        "id": "cKOGUiVTwMXt"
      },
      "outputs": [],
      "source": [
        "import re\n",
        "import string\n",
        "from spellchecker import SpellChecker\n",
        "import pytesseract\n",
        "import cv2\n",
        "import os\n",
        "import matplotlib.pyplot as plt\n",
        "import numpy as np\n",
        "\n",
        "# Initialize the spellchecker.\n",
        "#spell = SpellChecker()\n"
      ]
    },
    {
      "cell_type": "code",
      "execution_count": 3,
      "metadata": {
        "id": "4bl8-A96SQwQ"
      },
      "outputs": [],
      "source": [
        "pytesseract.pytesseract.tesseract_cmd = r\"C:\\Program Files\\Tesseract-OCR\\tesseract.exe\"\n",
        "os.environ['TESSDATA_PREFIX'] = r'C:\\Program Files\\Tesseract-OCR\\tessdata'\n",
        "custom_config = r'--oem 3 --psm 6'"
      ]
    },
    {
      "cell_type": "code",
      "execution_count": 4,
      "metadata": {},
      "outputs": [],
      "source": [
        "tags = [\"O\", \"CIT-NUM\", \"SEX\", \"B-NAME\", \"I-NAME\", \"YEAR\", \"MONTH\", \"DAY\", \"B-DISTRICT\", \"B-WARD\", \"B-NO\", \"I-DISTRICT\", \"I-WARD\", \"I-NO\"]\n",
        "id2label = {i: label for i, label in enumerate(tags)}\n",
        "label2id = {v: k for k, v in id2label.items()}"
      ]
    },
    {
      "cell_type": "code",
      "execution_count": 17,
      "metadata": {
        "colab": {
          "base_uri": "https://localhost:8080/"
        },
        "id": "H9KzOugMSU1Y",
        "outputId": "592342fb-137b-4c0a-930f-170fe8c7b186"
      },
      "outputs": [
        {
          "name": "stdout",
          "output_type": "stream",
          "text": [
            "details Citizenship Certificate No 37027700954 Sex Male Full Name SAGAR GIRI Date of Birth AD Year2003 MonthJUN Day06 Birth lacs District Gulmi i selh werniraeras carn ox ue arf VDC Bamgha Ward No8 Permanent Addres> District Rupandehi pape teres? wr ae op ale il Municipality Tilottama Ward No1 dl AMS AAA Cet OES AST Ay erraTLarcTAT\n"
          ]
        }
      ],
      "source": [
        "image_back = cv2.imread(\"../data/back1.jpg\")\n",
        "back_text = pytesseract.image_to_string(image_back, config=custom_config)\n",
        "unwanted = \";:{}[]()|,~=+_-—.«*‘“\"\n",
        "translator = str.maketrans('', '', unwanted)\n",
        "cleaned_text = back_text.translate(translator)\n",
        "try:\n",
        "    try :\n",
        "        start_index = cleaned_text.lower().index(\"details\")\n",
        "        truncated_text = cleaned_text[start_index:]\n",
        "\n",
        "    except (ValueError, StopIteration):\n",
        "        start_index = cleaned_text.lower().index(\"government\")\n",
        "        truncated_text = cleaned_text[start_index:]\n",
        "\n",
        "\n",
        "    split_text = truncated_text.split()\n",
        "\n",
        "\n",
        "    ward_index = next(i for i, word in enumerate(split_text) if word.lower() == 'ward')\n",
        "\n",
        "\n",
        "    result_words = split_text[:ward_index +25]\n",
        "    result = ' '.join(result_words)\n",
        "except (ValueError, StopIteration):\n",
        "    result = cleaned_text\n",
        "\n",
        "print(result)\n"
      ]
    },
    {
      "cell_type": "code",
      "execution_count": 11,
      "metadata": {},
      "outputs": [
        {
          "name": "stdout",
          "output_type": "stream",
          "text": [
            "details Citizenship Certificate No 37027700054 Sex Male Full Names SAGARGIRI i Date of Birth AD Year 2003 Month JUN Day 06 Birth Placs CDs trict Guimi va srniranra dees tet rh VDC Bamnghs Ward No 8 i Perman nt Address S District Rupandehi sly pisare ce igs yl Municipality Tilottama Ward No 1 Boe aia Ca 2083 aig at aera WATT\n"
          ]
        }
      ],
      "source": [
        "import re\n",
        "import string\n",
        "\n",
        "def split_token(token):\n",
        "\n",
        "    token = re.sub(r'([a-z])([A-Z])', r'\\1 \\2', token)\n",
        "    parts = []\n",
        "    for part in token.split():\n",
        "        parts.extend(re.findall(r'[A-Za-z]+|\\d+', part))\n",
        "    return parts\n",
        "\n",
        "def clean_text(text):\n",
        "\n",
        "    raw_tokens = text.split()\n",
        "    cleaned_tokens = []\n",
        "    for token in raw_tokens:\n",
        "        token = token.strip(string.punctuation)\n",
        "        if not token:\n",
        "            continue\n",
        "        sub_tokens = split_token(token)\n",
        "        cleaned_tokens.extend([sub for sub in sub_tokens if sub])\n",
        "    return cleaned_tokens\n",
        "\n",
        "\n",
        "ocr_text = result\n",
        "\n",
        "cleaned_tokens = clean_text(ocr_text)\n",
        "sentence = \" \".join(cleaned_tokens)\n",
        "print(sentence)\n"
      ]
    },
    {
      "cell_type": "code",
      "execution_count": 12,
      "metadata": {},
      "outputs": [
        {
          "name": "stdout",
          "output_type": "stream",
          "text": [
            "[('details', 'O'), ('citizenship', 'O'), ('certificate', 'O'), ('no', 'O'), ('37027700054', 'CIT-NUM'), ('sex', 'O'), ('male', 'SEX'), ('full', 'O'), ('names', 'O'), ('sagargiri', 'B-NAME'), ('i', 'O'), ('date', 'O'), ('of', 'O'), ('birth', 'O'), ('ad', 'O'), ('year', 'O'), ('2003', 'YEAR'), ('month', 'O'), ('jun', 'MONTH'), ('day', 'O'), ('06', 'DAY'), ('birth', 'O'), ('placs', 'O'), ('cds', 'O'), ('trict', 'O'), ('guimi', 'B-NAME'), ('va', 'O'), ('srniranra', 'I-NAME'), ('dees', 'O'), ('tet', 'O'), ('rh', 'O'), ('vdc', 'O'), ('bamnghs', 'B-WARD'), ('ward', 'O'), ('no', 'B-NO'), ('8', 'B-NO'), ('i', 'O'), ('perman', 'O'), ('nt', 'O'), ('address', 'O'), ('s', 'O'), ('district', 'O'), ('rupandehi', 'B-DISTRICT'), ('sly', 'O'), ('pisare', 'I-DISTRICT'), ('ce', 'O'), ('igs', 'O'), ('yl', 'O'), ('municipality', 'O'), ('tilottama', 'I-WARD'), ('ward', 'O'), ('no', 'B-NO'), ('1', 'I-NO'), ('boe', 'O'), ('aia', 'O'), ('ca', 'O'), ('2083', 'I-NO'), ('aig', 'O'), ('at', 'O'), ('aera', 'O'), ('watt', 'O')]\n"
          ]
        }
      ],
      "source": [
        "\n",
        "\n",
        "text = sentence\n",
        "\n",
        "\n",
        "inputs = tokenizer(text, return_tensors=\"pt\")\n",
        "with torch.no_grad():\n",
        "    outputs = model(**inputs)\n",
        "\n",
        "predicted_label_ids = outputs.logits.argmax(-1).squeeze()\n",
        "predicted_labels = [id2label[id.item()] for id in predicted_label_ids]\n",
        "\n",
        "tokens = tokenizer.convert_ids_to_tokens(inputs.input_ids.squeeze())\n",
        "word_ids = inputs.word_ids()\n",
        "\n",
        "\n",
        "words = []\n",
        "word_labels = []\n",
        "current_word = \"\"\n",
        "current_labels = []\n",
        "\n",
        "for token, word_id, label in zip(tokens, word_ids, predicted_labels):\n",
        "    if word_id is None:\n",
        "        continue\n",
        "\n",
        "    if word_id != len(words):\n",
        "\n",
        "        if current_word:\n",
        "            label_counts = Counter(current_labels)\n",
        "            most_common_label = max(label_counts, key=label_counts.get)\n",
        "\n",
        "            if \"O\" in label_counts and len(label_counts) > 1:\n",
        "                del label_counts[\"O\"]\n",
        "                most_common_label = max(label_counts, key=label_counts.get)\n",
        "\n",
        "            words.append((current_word, most_common_label))\n",
        "\n",
        "        current_word = token.replace(\"##\", \"\")\n",
        "        current_labels = [label]\n",
        "    else:\n",
        "\n",
        "        current_word += token.replace(\"##\", \"\")\n",
        "        current_labels.append(label)\n",
        "\n",
        "\n",
        "if current_word:\n",
        "    label_counts = Counter(current_labels)\n",
        "    most_common_label = max(label_counts, key=label_counts.get)\n",
        "\n",
        "    if \"O\" in label_counts and len(label_counts) > 1:\n",
        "        del label_counts[\"O\"]\n",
        "        most_common_label = max(label_counts, key=label_counts.get)\n",
        "\n",
        "    words.append((current_word, most_common_label))\n",
        "\n",
        "print(words)\n"
      ]
    },
    {
      "cell_type": "code",
      "execution_count": 13,
      "metadata": {},
      "outputs": [
        {
          "name": "stdout",
          "output_type": "stream",
          "text": [
            "[('details', 'O'), ('citizenship', 'O'), ('certificate', 'O'), ('no', 'O'), ('37027700054', 'CIT-NUM'), ('sex', 'O'), ('male', 'SEX'), ('full', 'O'), ('names', 'O'), ('sagargiri', 'B-NAME'), ('i', 'O'), ('date', 'O'), ('of', 'O'), ('birth', 'O'), ('ad', 'O'), ('year', 'O'), ('2003', 'YEAR'), ('month', 'O'), ('jun', 'MONTH'), ('day', 'O'), ('06', 'DAY'), ('birth', 'O'), ('placs', 'O'), ('cds', 'O'), ('trict', 'O'), ('guimi', 'B-NAME'), ('va', 'O'), ('srniranra', 'I-NAME'), ('dees', 'O'), ('tet', 'O'), ('rh', 'O'), ('vdc', 'O'), ('bamnghs', 'B-WARD'), ('ward', 'O'), ('no', 'B-NO'), ('8', 'B-NO'), ('i', 'O'), ('perman', 'O'), ('nt', 'O'), ('address', 'O'), ('s', 'O'), ('district', 'O'), ('rupandehi', 'B-DISTRICT'), ('sly', 'O'), ('pisare', 'I-DISTRICT'), ('ce', 'O'), ('igs', 'O'), ('yl', 'O'), ('municipality', 'O'), ('tilottama', 'I-WARD'), ('ward', 'O'), ('no', 'I-NO'), ('1', 'I-NO'), ('boe', 'O'), ('aia', 'O'), ('ca', 'O'), ('2083', 'I-NO'), ('aig', 'O'), ('at', 'O'), ('aera', 'O'), ('watt', 'O')]\n"
          ]
        }
      ],
      "source": [
        "#this correxts the error if th I-district is before B-district then change it. so for ward\n",
        "D_target = [\"B-DISTRICT\",\"I-DISTRICT\"]\n",
        "W_target = [\"B-WARD\",\"I-WARD\"]\n",
        "NO_target = [\"B-NO\",\"I-NO\"]\n",
        "D_flag = 0\n",
        "W_flag = 0\n",
        "NO_flag = 0\n",
        "\n",
        "new_words = []\n",
        "\n",
        "for data,label in words:\n",
        "    \n",
        "    if label in D_target and D_flag == 0:\n",
        "        label = \"B-DISTRICT\"\n",
        "        D_flag = 1\n",
        "\n",
        "    elif label in D_target and D_flag == 1:\n",
        "        label = \"I-DISTRICT\"\n",
        "\n",
        "    elif label in W_target and W_flag == 0:\n",
        "        label = \"B-WARD\"\n",
        "        W_flag = 1\n",
        "\n",
        "    elif label in W_target and W_flag == 1:\n",
        "        label = \"I-WARD\"\n",
        "\n",
        "    elif label in NO_target and NO_flag < 2:\n",
        "        label = \"B-NO\"\n",
        "        NO_flag += 1\n",
        "    \n",
        "    elif label in NO_target and NO_flag ==2:\n",
        "        label = \"I-NO\"\n",
        "    \n",
        "    new_words.append((data,label))\n",
        "    \n",
        "print(new_words)\n"
      ]
    },
    {
      "cell_type": "code",
      "execution_count": null,
      "metadata": {},
      "outputs": [
        {
          "name": "stdout",
          "output_type": "stream",
          "text": [
            "[('details', 'O'), ('citizenship', 'O'), ('certificat', 'O'), ('no', 'O'), ('06147500089', 'CIT-NUM'), ('sex', 'O'), ('mate', 'SEX'), ('full', 'O'), ('name', 'O'), ('sabin', 'B-NAME'), ('rana', 'O'), ('magar', 'I-NAME'), ('date', 'O'), ('of', 'O'), ('birth', 'O'), ('ad', 'O'), ('year', 'O'), ('2002', 'YEAR'), ('month', 'O'), ('nov', 'MONTH'), ('day', 'O'), ('19', 'DAY'), ('birth', 'O'), ('place', 'O'), ('district', 'O'), ('sunsari', 'B-DISTRICT'), ('municipality', 'O'), ('barahachhetra', 'B-WARD'), ('ward', 'O'), ('no', 'B-NO'), ('8', 'B-NO'), ('permahent', 'O'), ('address', 'O'), ('district', 'O'), ('sunsari', 'B-DISTRICT'), ('municipality', 'O'), ('barahachhetra', 'B-WARD'), ('ward', 'O'), ('no', 'B-NO'), ('8', 'B-NO'), ('aut', 'O'), ('atta', 'B-WARD'), ('vat', 'O'), ('ez', 'O'), ('sansa', 'B-WARD'), ('ai', 'O'), ('aaah', 'O'), ('wats', 'O'), ('fesvenl', 'B-DISTRICT'), ('s', 'O'), ('arita', 'B-WARD'), ('paar', 'B-WARD'), ('deter', 'O'), ('ee', 'O'), ('eae', 'O')]\n"
          ]
        }
      ],
      "source": [
        "# #this correxts the error if th I-district is before B-district then change it. so for ward\n",
        "# # Define our target labels for processing.\n",
        "# target_labels = {\n",
        "#     \"DISTRICT\": {\"B-DISTRICT\", \"I-DISTRICT\"},\n",
        "#     \"WARD\": {\"B-WARD\", \"I-WARD\"},\n",
        "#     \"NO\": {\"B-NO\", \"I-NO\"}\n",
        "    \n",
        "# }\n",
        "\n",
        "# # Helper: Return the group if the label exactly matches one of our target labels.\n",
        "# def get_group(label):\n",
        "#     for group, labels in target_labels.items():\n",
        "#         if label in labels:\n",
        "#             return group\n",
        "#     return None\n",
        "\n",
        "# # Flag to indicate if we've reached the permanent section.\n",
        "# in_permanent = False\n",
        "# modified_words = []\n",
        "\n",
        "# for word, label in words:\n",
        "#     # Check if this token marks the start of permanent address.\n",
        "#     if word.lower() == \"permanent\":\n",
        "#         in_permanent = True\n",
        "#         modified_words.append((word, label))\n",
        "#         continue\n",
        "\n",
        "#     group = get_group(label)\n",
        "#     if group is not None:\n",
        "#         # If we're in the permanent section, force I-; otherwise, force B-\n",
        "#         if in_permanent:\n",
        "#             new_label = \"I-\" + group\n",
        "#         else:\n",
        "#             new_label = \"B-\" + group\n",
        "#         modified_words.append((word, new_label))\n",
        "#     else:\n",
        "#         modified_words.append((word, label))\n",
        "\n",
        "# # Replace your original words list with the modified one.\n",
        "# words = modified_words\n",
        "\n",
        "# print(words)\n"
      ]
    },
    {
      "cell_type": "code",
      "execution_count": null,
      "metadata": {},
      "outputs": [
        {
          "name": "stdout",
          "output_type": "stream",
          "text": [
            "[('details', 'O'), ('citizenship', 'O'), ('certificate', 'O'), ('no', 'O'), ('31017603422', 'CIT-NUM'), ('sex', 'O'), ('male', 'SEX'), ('full', 'O'), ('name', 'O'), ('subash', 'B-NAME'), ('khatri', 'I-NAME'), ('date', 'O'), ('of', 'O'), ('birth', 'O'), ('ad', 'O'), ('year', 'O'), ('2001', 'YEAR'), ('month', 'O'), ('apr', 'MONTH'), ('day', 'O'), ('14', 'DAY'), ('birth', 'O'), ('place', 'O'), ('district', 'O'), ('makawanpur', 'B-DISTRICT'), ('municipality', 'O'), ('thaha', 'B-WARD'), ('ward', 'O'), ('no', 'B-NO'), ('7', 'B-NO'), ('permanent', 'O'), ('address', 'O'), ('district', 'O'), ('makawanpur', 'I-DISTRICT'), ('municipality', 'O'), ('thaha', 'I-WARD'), ('ward', 'O'), ('no', 'I-NO'), ('7', 'I-NO'), ('hare', 'O'), ('aaa', 'O'), ('taf', 'O'), ('083', 'I-NO'), ('atta', 'O'), ('at', 'O'), ('a', 'O'), ('reca', 'O'), ('tat', 'O'), ('rec', 'O'), ('feafear', 'O'), ('aerst', 'O'), ('tf', 'O')]\n"
          ]
        }
      ],
      "source": [
        "# new_words = []\n",
        "# tagss=[]\n",
        "# for idx , (word, label) in enumerate(words):\n",
        "#     tagss.append(label)\n",
        "#     if label not in ['B-NO', 'I-NO','O']:\n",
        "#         if tagss.count(label) > 1:\n",
        "#             continue\n",
        "#     new_words.append((word, label))\n",
        "\n",
        "# print(new_words)\n",
        "#its improved form is below\n",
        "    "
      ]
    },
    {
      "cell_type": "code",
      "execution_count": 14,
      "metadata": {},
      "outputs": [
        {
          "name": "stdout",
          "output_type": "stream",
          "text": [
            "[('details', 'O'), ('citizenship', 'O'), ('certificate', 'O'), ('no', 'O'), ('37027700054', 'CIT-NUM'), ('sex', 'O'), ('male', 'SEX'), ('full', 'O'), ('names', 'O'), ('sagargiri', 'B-NAME'), ('i', 'O'), ('date', 'O'), ('of', 'O'), ('birth', 'O'), ('ad', 'O'), ('year', 'O'), ('2003', 'YEAR'), ('month', 'O'), ('jun', 'MONTH'), ('day', 'O'), ('06', 'DAY'), ('birth', 'O'), ('placs', 'O'), ('cds', 'O'), ('trict', 'O'), ('va', 'O'), ('srniranra', 'I-NAME'), ('dees', 'O'), ('tet', 'O'), ('rh', 'O'), ('vdc', 'O'), ('bamnghs', 'B-WARD'), ('ward', 'O'), ('no', 'B-NO'), ('8', 'B-NO'), ('i', 'O'), ('perman', 'O'), ('nt', 'O'), ('address', 'O'), ('s', 'O'), ('district', 'O'), ('rupandehi', 'B-DISTRICT'), ('sly', 'O'), ('pisare', 'I-DISTRICT'), ('ce', 'O'), ('igs', 'O'), ('yl', 'O'), ('municipality', 'O'), ('tilottama', 'I-WARD'), ('ward', 'O'), ('no', 'I-NO'), ('1', 'I-NO'), ('boe', 'O'), ('aia', 'O'), ('ca', 'O'), ('aig', 'O'), ('at', 'O'), ('aera', 'O'), ('watt', 'O')]\n"
          ]
        }
      ],
      "source": [
        "# if tags are more then one take only first,  except for B-No and I -NO . for them consider two.\n",
        "\n",
        "\n",
        "newnew_words = []\n",
        "tagss=[]\n",
        "for idx , (word, label) in enumerate(new_words):\n",
        "    tagss.append(label)\n",
        "    if label not in ['O']:\n",
        "        if label in [\"B-NO\", \"I-NO\"]:\n",
        "                if tagss.count(label) > 2:\n",
        "                    continue\n",
        "        elif tagss.count(label) > 1:\n",
        "            continue\n",
        "    newnew_words.append((word, label))\n",
        "\n",
        "\n",
        "print(newnew_words)\n"
      ]
    },
    {
      "cell_type": "code",
      "execution_count": 15,
      "metadata": {},
      "outputs": [
        {
          "name": "stdout",
          "output_type": "stream",
          "text": [
            "{'citizenship_num': '37-02-77-00054', 'first_name': 'sagargiri', 'last_name': 'srniranra', 'gender': 'male', 'Birth_year': '2003', 'Birth_month': 'jun', 'Birth_day': '06', 'Birth_district': 'rupandehi', 'Birth_ward': 'bamnghs', 'Birth_wardno': '8', 'Permanent_dist': 'pisare', 'Permanent_ward': 'tilottama', 'Permanent_wardno': '1'}\n"
          ]
        }
      ],
      "source": [
        "\n",
        "\n",
        "result = {}\n",
        "full_name = []\n",
        "citizenship_no = \"\"\n",
        "gender = \"\"\n",
        "year = \"\"\n",
        "month = \"\"\n",
        "day = \"\"\n",
        "B_dist = \"\"\n",
        "B_ward = \"\"\n",
        "B_no = \"\"\n",
        "P_dist = \"\"\n",
        "P_ward = \"\"\n",
        "P_no = \"\"\n",
        "\n",
        "def extract_num(text):\n",
        "    match = re.search(r'\\d+', text)\n",
        "    return match.group() if match else None\n",
        "\n",
        "\n",
        "for word, label in newnew_words:\n",
        "    if label == \"CIT-NUM\":\n",
        "        citizenship_no += word\n",
        "    elif label == \"B-NAME\":\n",
        "        full_name.append(word)\n",
        "    elif label == \"I-NAME\":\n",
        "        full_name.append(word)\n",
        "    elif label == \"SEX\":\n",
        "      gender +=word\n",
        "    elif label == \"YEAR\":\n",
        "      year += word\n",
        "    elif label == \"MONTH\":\n",
        "      month += word\n",
        "    elif label == \"DAY\":\n",
        "      day += word\n",
        "    elif label == \"B-DISTRICT\":\n",
        "      B_dist += word\n",
        "    elif label == \"B-WARD\":\n",
        "      B_ward += word\n",
        "    elif label == \"B-NO\":\n",
        "      B_no += word\n",
        "    elif label == \"I-DISTRICT\":\n",
        "      P_dist += word\n",
        "    elif label == \"I-WARD\":\n",
        "      P_ward += word\n",
        "    elif label == \"I-NO\":\n",
        "      P_no += word\n",
        "\n",
        "if citizenship_no:\n",
        "    citizenship_number = citizenship_no[:2] + \"-\" + citizenship_no[2:4] + \"-\" + citizenship_no[4:6] + \"-\" + citizenship_no[6:]\n",
        "    result[\"citizenship_num\"] = citizenship_number\n",
        "else :\n",
        "  result[\"citizenship_num\"] = None\n",
        "\n",
        "if len(full_name) > 0:\n",
        "    result[\"first_name\"] = full_name[0]\n",
        "else:\n",
        "   result[\"first_name\"] = None\n",
        "\n",
        "if len(full_name) > 1:\n",
        "    result[\"last_name\"] = full_name[-1]\n",
        "else:\n",
        "  result[\"last_name\"] = None\n",
        "if len(gender)>1:\n",
        "    result[\"gender\"] = gender\n",
        "else:\n",
        "  result[\"gender\"] = None\n",
        "if year:\n",
        "    result[\"Birth_year\"] = year\n",
        "    result[\"Birth_year\"] = extract_num(result[\"Birth_year\"])\n",
        "else:\n",
        "  result[\"Birth_year\"] = None\n",
        "\n",
        "if len(month) >1:\n",
        "    result[\"Birth_month\"] = month\n",
        "else:\n",
        "  result[\"Birth_month\"] = None\n",
        "if day:\n",
        "    result[\"Birth_day\"] = day\n",
        "else:\n",
        "  result[\"Birth_day\"] = None\n",
        "if B_dist:\n",
        "    result[\"Birth_district\"] = B_dist\n",
        "else:\n",
        "  result[\"Birth_district\"] = None\n",
        "if B_ward:\n",
        "    result[\"Birth_ward\"] = B_ward\n",
        "else:\n",
        "  result[\"Birth_ward\"] = None\n",
        "if B_no:\n",
        "    result[\"Birth_wardno\"] = B_no\n",
        "    result[\"Birth_wardno\"] = extract_num(result[\"Birth_wardno\"])\n",
        "else:\n",
        "  result[\"Birth_wardno\"] = None\n",
        "if P_dist:\n",
        "    result[\"Permanent_dist\"] = P_dist\n",
        "else:\n",
        "  result[\"Permanent_dist\"] = None\n",
        "if P_ward:\n",
        "    result[\"Permanent_ward\"] = P_ward\n",
        "else:\n",
        "  result[\"Permanent_ward\"] = None\n",
        "if P_no:\n",
        "    result[\"Permanent_wardno\"] = P_no\n",
        "    result[\"Permanent_wardno\"] = extract_num(result[\"Permanent_wardno\"])\n",
        "else:\n",
        "  result[\"Permanent_wardno\"] = None\n",
        "\n",
        "\n",
        "print(result)"
      ]
    },
    {
      "cell_type": "code",
      "execution_count": null,
      "metadata": {},
      "outputs": [],
      "source": []
    }
  ],
  "metadata": {
    "colab": {
      "provenance": []
    },
    "kernelspec": {
      "display_name": "minor",
      "language": "python",
      "name": "minor"
    },
    "language_info": {
      "codemirror_mode": {
        "name": "ipython",
        "version": 3
      },
      "file_extension": ".py",
      "mimetype": "text/x-python",
      "name": "python",
      "nbconvert_exporter": "python",
      "pygments_lexer": "ipython3",
      "version": "3.11.11"
    }
  },
  "nbformat": 4,
  "nbformat_minor": 0
}
