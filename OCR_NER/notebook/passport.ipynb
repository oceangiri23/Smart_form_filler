{
 "cells": [
  {
   "cell_type": "code",
   "execution_count": 1,
   "metadata": {},
   "outputs": [],
   "source": [
    "import pytesseract\n",
    "import cv2\n",
    "import os\n",
    "import matplotlib.pyplot as plt\n",
    "import numpy as np"
   ]
  },
  {
   "cell_type": "code",
   "execution_count": 2,
   "metadata": {},
   "outputs": [],
   "source": [
    "pytesseract.pytesseract.tesseract_cmd = r\"C:\\Program Files\\Tesseract-OCR\\tesseract.exe\"\n",
    "os.environ['TESSDATA_PREFIX'] = r'C:\\Program Files\\Tesseract-OCR\\tessdata'\n",
    "custom_config = r'--oem 3 --psm 6'"
   ]
  },
  {
   "cell_type": "code",
   "execution_count": null,
   "metadata": {},
   "outputs": [],
   "source": [
    "\n",
    "\n",
    "def preprocess_mrz(image_path):\n",
    "\n",
    "    image = cv2.imread(image_path, cv2.IMREAD_COLOR)\n",
    "    height, width, _ = image.shape\n",
    "    crop_height = int((6 / 9) * height)\n",
    "    cropped_image = image[crop_height:, :]\n",
    "    plt.imshow(cropped_image)\n",
    "    gray = cv2.cvtColor(cropped_image, cv2.COLOR_BGR2GRAY)\n",
    "\n",
    "    sharpening_kernel = np.array([[0, -1,  0],\n",
    "                               [-1,  5, -1],\n",
    "                               [0, -1,  0]])\n",
    "\n",
    "    sharpened_image = cv2.filter2D(gray, -1, sharpening_kernel)\n",
    "    plt.imshow(sharpened_image)\n",
    "    return sharpened_image\n",
    "\n",
    "def extract_mrz_text(image_path):\n",
    "\n",
    "    processed = preprocess_mrz(image_path)\n",
    "    custom_config = r'--oem 3 --psm 6 -c tessedit_char_whitelist=ABCDEFGHIJKLMNOPQRSTUVWXYZ0123456789<'\n",
    "    full_text = pytesseract.image_to_string(processed, config=custom_config)\n",
    "    lines = [line for line in full_text.splitlines() if line.strip()]\n",
    "\n",
    "    if len(lines) >= 2:\n",
    "        last_two_lines = lines[-4:]\n",
    "    else:\n",
    "        last_two_lines = lines\n",
    "\n",
    "    all_words = last_two_lines\n",
    "    top_two = []\n",
    "    for word in all_words:\n",
    "        if len(top_two) < 2:\n",
    "            top_two.append(word)\n",
    "        else:\n",
    "            min_len_word = min(top_two, key=len)\n",
    "            if len(word) > len(min_len_word):\n",
    "                top_two[top_two.index(min_len_word)] = word\n",
    "\n",
    "    return top_two\n",
    "\n",
    "\n",
    "\n",
    "image_path = \"../imagedata/mine.jpg\"\n",
    "mrz_text = extract_mrz_text(image_path)\n",
    "print(\"MRZ OCR (Last Two Lines):\")\n",
    "print(mrz_text)"
   ]
  },
  {
   "cell_type": "code",
   "execution_count": 4,
   "metadata": {},
   "outputs": [
    {
     "name": "stdout",
     "output_type": "stream",
     "text": [
      "('GIRI', 'SAGAR')\n"
     ]
    }
   ],
   "source": [
    "def parse_name(name_field):\n",
    "    parts = name_field.split('<<')\n",
    "    surname = parts[0].replace('<', ' ').strip()\n",
    "    given = ''\n",
    "    if len(parts) > 1:\n",
    "        given = parts[1].replace('<', ' ').strip().lower()\n",
    "    surname = surname[5:]\n",
    "    surnames = surname[:-1] if surname.endswith('k') else surname\n",
    "    firstname = given[:-1] if given.endswith('k') else given\n",
    "    return surnames, firstname.upper()\n",
    "\n",
    "print(parse_name(mrz_text[1]))"
   ]
  },
  {
   "cell_type": "code",
   "execution_count": null,
   "metadata": {},
   "outputs": [],
   "source": [
    "code = mrz_text[0]\n",
    "code = code.replace('<', '')\n",
    "\n",
    "\n",
    "def extract_passportno(s: str, nationality: str = \"NPL\") -> str:\n",
    "    i = s.find(nationality)\n",
    "    if i <= 0:\n",
    "        return \"\" \n",
    "    return s[: i - 1]\n",
    "\n",
    "def extract_DOB(s: str) -> str:\n",
    "\n",
    "    idx = s.find(\"NPL\")\n",
    "    if idx == -1:\n",
    "        return \"\"\n",
    "    DOB = s[idx + len(\"NPL\") : idx + len(\"NPL\") + 6]\n",
    "    return \"20\"+DOB[0:2]+\"-\"+DOB[2:4]+\"-\"+DOB[4:6]\n",
    "\n",
    "def extract_gender(s: str)->str:\n",
    "  idx = s.find(\"NPL\")\n",
    "  if idx == -1:\n",
    "      return \"\"\n",
    "  gndr = s[idx + len(\"NPL\") +7 : idx + len(\"NPL\") + 8]\n",
    "  if gndr == 'M':\n",
    "    return \"MALE\"\n",
    "  else:\n",
    "    return \"Female\"\n",
    "\n",
    "def extract_expiredate(s: str) -> str:\n",
    "    idx = s.find(\"NPL\")\n",
    "    if idx == -1:\n",
    "        return \"\"\n",
    "    expire = s[idx + len(\"NPL\") +8: idx + len(\"NPL\") + 14]\n",
    "    return \"20\"+expire[0:2]+\"-\"+expire[2:4]+\"-\"+expire[4:6]\n",
    "\n",
    "def extract_citno(s: str) -> str:\n",
    "    idx = s.find(\"NPL\")\n",
    "    if idx == -1:\n",
    "        return \"\"\n",
    "    citno = s[idx + len(\"NPL\") +15: idx + len(\"NPL\") + 26]\n",
    "    return citno[0:2] + \"-\"+citno[2:4]+ '-' +citno[4:]\n",
    "\n",
    "print(extract_passportno(code))\n",
    "print(extract_DOB(code))\n",
    "print(extract_gender(code))\n",
    "print(extract_expiredate(code))\n",
    "print(extract_citno(code))"
   ]
  },
  {
   "cell_type": "code",
   "execution_count": null,
   "metadata": {},
   "outputs": [],
   "source": []
  }
 ],
 "metadata": {
  "kernelspec": {
   "display_name": "minor",
   "language": "python",
   "name": "minor"
  },
  "language_info": {
   "codemirror_mode": {
    "name": "ipython",
    "version": 3
   },
   "file_extension": ".py",
   "mimetype": "text/x-python",
   "name": "python",
   "nbconvert_exporter": "python",
   "pygments_lexer": "ipython3",
   "version": "3.11.11"
  }
 },
 "nbformat": 4,
 "nbformat_minor": 2
}
